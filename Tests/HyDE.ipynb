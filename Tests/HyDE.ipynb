{
 "cells": [
  {
   "cell_type": "code",
   "execution_count": 1,
   "metadata": {},
   "outputs": [],
   "source": [
    "from langchain_core.output_parsers import StrOutputParser\n",
    "from langchain_core.prompts import ChatPromptTemplate\n",
    "from langchain_openai import ChatOpenAI"
   ]
  },
  {
   "cell_type": "code",
   "execution_count": 8,
   "metadata": {},
   "outputs": [],
   "source": [
    "system = \"\"\"You are an expert AI assistant trained on Brandeis University-related topics. Your task is to generate a hypothetical but plausible passage that represents a well-structured and informative response to a given question, even if the exact answer is not yet retrieved.\n",
    "\n",
    "Your response should be concise, coherent, and focused on Brandeis-specific information, such as academic programs, student resources, campus facilities, events, policies, and traditions. Use logical reasoning and general knowledge about universities to construct a passage that mirrors a realistic answer. Include key concepts, relevant terminology, and structured details that make the response useful for retrieving the most relevant documents.\n",
    "\n",
    "Do not use placeholders or speculative phrases like 'perhaps' or 'maybe'—instead, generate a confident and authoritative passage that aligns with what a knowledgeable Brandeis administrator, faculty member, or student might say. This passage will be embedded and used to enhance document retrieval, so prioritize clarity, completeness, and relevance to Brandeis University.\"\"\"\n",
    "prompt = ChatPromptTemplate.from_messages(\n",
    "    [\n",
    "        (\"system\", system),\n",
    "        (\"human\", \"{question}\"),\n",
    "    ]\n",
    ")"
   ]
  },
  {
   "cell_type": "code",
   "execution_count": 3,
   "metadata": {},
   "outputs": [],
   "source": [
    "llm = ChatOpenAI(model=\"gpt-3.5-turbo-0125\", temperature=0)\n",
    "qa_no_context = prompt | llm | StrOutputParser()"
   ]
  },
  {
   "cell_type": "code",
   "execution_count": 7,
   "metadata": {},
   "outputs": [
    {
     "name": "stdout",
     "output_type": "stream",
     "text": [
      "To complete the Brandeis computer science major, you will need to take a set of core classes as well as elective courses. The specific classes required may vary depending on the year you entered the program and any updates to the curriculum. However, I can provide you with a general overview of the types of classes you can expect to take:\n",
      "\n",
      "1. **Core Computer Science Courses**: These courses form the foundation of your computer science education and cover topics such as programming, data structures, algorithms, computer systems, and software engineering.\n",
      "\n",
      "2. **Mathematics Courses**: Computer science is closely related to mathematics, so you will likely need to take courses in areas such as calculus, discrete mathematics, and linear algebra.\n",
      "\n",
      "3. **Elective Computer Science Courses**: You will have the opportunity to choose elective courses based on your interests and career goals. These may include topics such as artificial intelligence, machine learning, cybersecurity, databases, and more.\n",
      "\n",
      "4. **Senior Capstone Project**: Many computer science programs require a senior capstone project where you work on a real-world problem or research project under the guidance of a faculty member.\n",
      "\n",
      "5. **General Education Requirements**: In addition to computer science courses, you will also need to fulfill general education requirements in areas such as writing, humanities, social sciences, and natural sciences.\n",
      "\n",
      "It's important to consult with your academic advisor or refer to the official Brandeis computer science major requirements to get the most up-to-date and accurate information on the specific classes you need to complete the program. Additionally, you may want to consider exploring opportunities for internships, research projects, or extracurricular activities related to computer science to enhance your learning experience and prepare for your future career.\n"
     ]
    }
   ],
   "source": [
    "answer = qa_no_context.invoke(\n",
    "    {\n",
    "        \"question\": \"What classes do I need to complete the Brandeis computer science major\"\n",
    "    }\n",
    ")\n",
    "print(answer)"
   ]
  },
  {
   "cell_type": "code",
   "execution_count": null,
   "metadata": {},
   "outputs": [],
   "source": []
  }
 ],
 "metadata": {
  "kernelspec": {
   "display_name": "base",
   "language": "python",
   "name": "python3"
  },
  "language_info": {
   "codemirror_mode": {
    "name": "ipython",
    "version": 3
   },
   "file_extension": ".py",
   "mimetype": "text/x-python",
   "name": "python",
   "nbconvert_exporter": "python",
   "pygments_lexer": "ipython3",
   "version": "3.11.4"
  }
 },
 "nbformat": 4,
 "nbformat_minor": 2
}
