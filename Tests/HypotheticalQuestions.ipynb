{
 "cells": [
  {
   "cell_type": "code",
   "execution_count": 28,
   "metadata": {},
   "outputs": [],
   "source": [
    "import os\n",
    "from langchain.docstore.document import Document"
   ]
  },
  {
   "cell_type": "code",
   "execution_count": 9,
   "metadata": {},
   "outputs": [],
   "source": [
    "from langchain_core.output_parsers import StrOutputParser\n",
    "from langchain_core.prompts import PromptTemplate\n",
    "from langchain_openai import ChatOpenAI"
   ]
  },
  {
   "cell_type": "code",
   "execution_count": 12,
   "metadata": {},
   "outputs": [],
   "source": [
    "prompt = \"\"\"You are an AI assistant that generates relevant and natural-sounding questions based on the following text within the triple backticks, which is sourced from Brandeis University's knowledge base. \n",
    "        Text:```{chunk}```\n",
    "        Generate a list of diverse and well-structured questions that a student, faculty member, or visitor might ask based on this content. \n",
    "        Ensure the questions:\n",
    "            - Are clear and concise.\n",
    "            - Are specific to Brandeis University.\n",
    "            - Vary in type (fact-based, procedural, explanatory).\n",
    "            - Avoid redundancy.\n",
    "        Return 3-5 questions as a numbered list.\"\"\"\n",
    "\n",
    "prompt_template = PromptTemplate.from_template(prompt)"
   ]
  },
  {
   "cell_type": "code",
   "execution_count": 4,
   "metadata": {},
   "outputs": [],
   "source": [
    "llm = ChatOpenAI(model=\"gpt-3.5-turbo\", temperature=0.7)"
   ]
  },
  {
   "cell_type": "code",
   "execution_count": 7,
   "metadata": {},
   "outputs": [],
   "source": [
    "import json\n",
    "from langchain.schema import Document\n",
    "\n",
    "def load_from_file(filename):\n",
    "    documents = []\n",
    "    with open(filename, 'r', encoding='utf-8') as f:\n",
    "        for line in f:\n",
    "            json_record = json.loads(line.strip())\n",
    "            documents.append(Document(page_content=json_record[\"page_content\"], metadata=json_record[\"metadata\"]))\n",
    "    return documents\n",
    "\n",
    "splits = load_from_file('documents.jsonl')"
   ]
  },
  {
   "cell_type": "code",
   "execution_count": 22,
   "metadata": {},
   "outputs": [],
   "source": [
    "chain = prompt_template | llm"
   ]
  },
  {
   "cell_type": "code",
   "execution_count": 18,
   "metadata": {},
   "outputs": [
    {
     "data": {
      "text/plain": [
       "Document(metadata={'source': 'https://www.brandeis.edu/audience/fac-staff.html', 'title': 'Faculty & Staff | Brandeis University'}, page_content='Faculty & StaffExpand AllAcademic ResourcesAcademic CalendarBookstoreCenter for Teaching and LearningDepartments and ProgramsFaculty and Researcher DirectoryFaculty HandbookLATTE(Learning and Teaching Technology Environment)MoodleBrandeis LibraryRegistrarStudent Accessibility Support: Information for FacultyWorkdayAdministrative ResourcesBrandeis Hospitality (Dining)Budget and PlanningBusiness and FinanceBrandeis Stationery and Business Card Ordering PortalCampus Planning and OperationsFacilities ServicesProcurement and Business ServicesPublic SafetyUniversity EventsCOVID- 19  InformationCOVID- 19  Information for Faculty and StaffGovernanceBoard of TrusteesFaculty Governance Task ForceFaculty SenateOffice of the PresidentPrinciples of Free Speech and Free ExpressionHuman ResourcesBenefitsEmployee FormsPaid Time OffHoliday ScheduleJob OpportunitiesPolicies and ProceduresSupport at BrandeisTraining and Professional DevelopmentWorkdayNews and InformationThe JusticeThe Brandeis HootBrandeis MagazineBrandeis StoriesCampus CalendarOffice of Marketing and CommunicationsSexual Misconduct/Title IX ResourcesOffice of Equal OpportunityPrevention, Advocacy & Resource CenterTechnology ResourcesBrandeis GmailComputer InformationHelp DeskManaging Your Brandeis AccountsTelephone InformationVPN (Virtual Private Network)')"
      ]
     },
     "execution_count": 18,
     "metadata": {},
     "output_type": "execute_result"
    }
   ],
   "source": [
    "splits[0].page_content"
   ]
  },
  {
   "cell_type": "code",
   "execution_count": 40,
   "metadata": {},
   "outputs": [],
   "source": [
    "def generate_questions(splits):\n",
    "    hyp_questions = []\n",
    "    for split in splits:\n",
    "        result = chain.invoke(split.page_content)\n",
    "        result_doc = Document(page_content=result.content, metadata={\"chunk\": split.page_content, \"source\": split.metadata[\"source\"]})\n",
    "        hyp_questions.append(result_doc)\n",
    "    return hyp_questions\n",
    "d = generate_questions(splits[0:2])\n"
   ]
  },
  {
   "cell_type": "code",
   "execution_count": null,
   "metadata": {},
   "outputs": [],
   "source": [
    "from langchain_openai import OpenAIEmbeddings\n",
    "embeddings = OpenAIEmbeddings(model=\"text-embedding-3-small\", api_key=os.getenv(\"OPENAI_API_KEY\"))\n",
    "url = \"https://73b67b21-6bf2-4607-befe-cd5a914ddb80.us-west-2-0.aws.cloud.qdrant.io\""
   ]
  },
  {
   "cell_type": "code",
   "execution_count": null,
   "metadata": {},
   "outputs": [],
   "source": [
    "qdrant = QdrantVectorStore.from_documents(\n",
    "    splits[0],\n",
    "    embeddings,\n",
    "    url=url,\n",
    "    prefer_grpc=True,\n",
    "    api_key=os.getenv(\"QDRANT_CLUSTER_KEY\"),\n",
    "    collection_name=\"brandeis.edu\",\n",
    ")"
   ]
  }
 ],
 "metadata": {
  "kernelspec": {
   "display_name": "base",
   "language": "python",
   "name": "python3"
  },
  "language_info": {
   "codemirror_mode": {
    "name": "ipython",
    "version": 3
   },
   "file_extension": ".py",
   "mimetype": "text/x-python",
   "name": "python",
   "nbconvert_exporter": "python",
   "pygments_lexer": "ipython3",
   "version": "3.11.4"
  }
 },
 "nbformat": 4,
 "nbformat_minor": 2
}
