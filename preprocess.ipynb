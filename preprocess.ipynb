{
  "cells": [
    {
      "cell_type": "markdown",
      "metadata": {
        "id": "8H64FYmAQTvw"
      },
      "source": [
        "Dependencies"
      ]
    },
    {
      "cell_type": "code",
      "execution_count": 2,
      "metadata": {},
      "outputs": [
        {
          "data": {
            "text/plain": [
              "True"
            ]
          },
          "execution_count": 2,
          "metadata": {},
          "output_type": "execute_result"
        }
      ],
      "source": [
        "import os\n",
        "from dotenv import load_dotenv\n",
        "load_dotenv()"
      ]
    },
    {
      "cell_type": "code",
      "execution_count": 3,
      "metadata": {
        "colab": {
          "base_uri": "https://localhost:8080/"
        },
        "id": "wBWBerPuQWQt",
        "outputId": "2dd6d568-7f75-4213-c1bd-b1791a041875"
      },
      "outputs": [
        {
          "name": "stderr",
          "output_type": "stream",
          "text": [
            "USER_AGENT environment variable not set, consider setting it to identify your requests.\n"
          ]
        }
      ],
      "source": [
        "from langchain_community.document_loaders import WebBaseLoader, SitemapLoader\n",
        "from bs4 import BeautifulSoup"
      ]
    },
    {
      "cell_type": "code",
      "execution_count": 4,
      "metadata": {
        "id": "fP1k7OCOqgmy"
      },
      "outputs": [],
      "source": [
        "import nest_asyncio\n",
        "nest_asyncio.apply()"
      ]
    },
    {
      "cell_type": "markdown",
      "metadata": {
        "id": "YxSi36IcyoYw"
      },
      "source": [
        "Loading Documents"
      ]
    },
    {
      "cell_type": "code",
      "execution_count": 5,
      "metadata": {
        "id": "wT-EYw6Og2ih"
      },
      "outputs": [],
      "source": [
        "# # Could potentially use firecrawl, figure out API cost later\n",
        "# crawl_params = {\n",
        "#     'crawlerOptions': {\n",
        "#         'includes': ['#skip-content'],\n",
        "#         'limit': 5,\n",
        "#     }\n",
        "# }\n",
        "# loader = FireCrawlLoader(\n",
        "#     api_key=os.environ[\"FIRE_CRAWL_API\"], url=\"https://www.brandeis.edu/registrar/bulletin/provisional/courses/subjects/1400.html\", mode=\"crawl\", params=crawl_params\n",
        "# )"
      ]
    },
    {
      "cell_type": "code",
      "execution_count": 6,
      "metadata": {
        "collapsed": true,
        "id": "bel9BTEKljzK"
      },
      "outputs": [],
      "source": [
        "# pages = []\n",
        "# for doc in loader.lazy_load():\n",
        "#     pages.append(doc)\n",
        "#     if len(pages) >= 10:\n",
        "#         pages = []"
      ]
    },
    {
      "cell_type": "code",
      "execution_count": 7,
      "metadata": {
        "id": "GAAPNHvLqpbZ"
      },
      "outputs": [],
      "source": [
        "def get_plain_text_with_header(content: BeautifulSoup) -> str:\n",
        "  skip_content = content.find(id=\"skip-content\")\n",
        "  return skip_content.get_text(strip=True) if skip_content else \"\""
      ]
    },
    {
      "cell_type": "code",
      "execution_count": 8,
      "metadata": {
        "id": "A0-I4fnpndDZ"
      },
      "outputs": [],
      "source": [
        "loader = SitemapLoader(\n",
        "    \"https://www.brandeis.edu/sitemap.xml\",\n",
        "    filter_urls=[\"https://www.brandeis.edu/computer-science/undergraduate/\"],\n",
        "    parsing_function=get_plain_text_with_header,\n",
        "    continue_on_failure=True\n",
        ")"
      ]
    },
    {
      "cell_type": "code",
      "execution_count": 9,
      "metadata": {
        "colab": {
          "base_uri": "https://localhost:8080/"
        },
        "id": "sr97DtjIqRCh",
        "outputId": "df7bd496-4e50-4ede-85c9-509cac7dc57b"
      },
      "outputs": [
        {
          "name": "stderr",
          "output_type": "stream",
          "text": [
            "Fetching pages: 100%|##########| 19/19 [00:01<00:00, 13.38it/s]\n"
          ]
        }
      ],
      "source": [
        "docs = loader.load()"
      ]
    },
    {
      "cell_type": "markdown",
      "metadata": {
        "id": "5NlkA7CvyrLj"
      },
      "source": [
        "Chunking"
      ]
    },
    {
      "cell_type": "code",
      "execution_count": 10,
      "metadata": {
        "id": "f15Rw0d2qnli"
      },
      "outputs": [],
      "source": [
        "from langchain_text_splitters import RecursiveCharacterTextSplitter"
      ]
    },
    {
      "cell_type": "code",
      "execution_count": 14,
      "metadata": {
        "id": "9LIVk6xIvrUn"
      },
      "outputs": [],
      "source": [
        "text_splitter = RecursiveCharacterTextSplitter(\n",
        "    chunk_size=1000,\n",
        "    chunk_overlap=200,\n",
        "    add_start_index=True\n",
        ")\n",
        "splits = text_splitter.split_documents(docs)"
      ]
    },
    {
      "cell_type": "code",
      "execution_count": 16,
      "metadata": {},
      "outputs": [
        {
          "data": {
            "text/plain": [
              "83"
            ]
          },
          "execution_count": 16,
          "metadata": {},
          "output_type": "execute_result"
        }
      ],
      "source": [
        "len(splits)"
      ]
    },
    {
      "cell_type": "code",
      "execution_count": 15,
      "metadata": {},
      "outputs": [
        {
          "data": {
            "text/plain": [
              "[Document(metadata={'source': 'https://www.brandeis.edu/computer-science/undergraduate/bachelor-master.html', 'loc': 'https://www.brandeis.edu/computer-science/undergraduate/bachelor-master.html', 'lastmod': '2022-11-21\\n', 'start_index': 0}, page_content=\"5-year Bachelor's/Master's ProgramThe BA/MS and BS/MS are designed for Brandeis undergraduates who are interested in taking additional computer science courses their senior year and completing an MS the year after they obtain their undergraduate degree.RequirementsAvailable only to Brandeis students who have completed all requirements for the undergraduate Bachelors degree and have performed well in the computer science major and have completed three 100-level COSI electives in addition to those required for their undergraduate degree. Students should apply for the program through theGraduate School of Arts and Sciencesand in consultation with their Undergraduate Advising Head in their senior year, at which time they should propose a course of study for the fifth year that typically consists of six graduate-level courses.\"),\n",
              " Document(metadata={'source': 'https://www.brandeis.edu/computer-science/undergraduate/data-science-internship.html', 'loc': 'https://www.brandeis.edu/computer-science/undergraduate/data-science-internship.html', 'lastmod': '2025-01-30\\n', 'start_index': 0}, page_content='Data Science Internal InternshipData Science Internal Internship in Higher EducationTop performing students can help drive innovation and increase operational effectiveness when it comes to data scientific applications in higher education. The Data Science Internal Internship (DSII) in Higher Education explored this possibility by linking relevant COSI faculty, top performing undergraduate students, and willing administrators across the university open to allowing students to bring data scientific solutions into existing work-flows. The DSII Lab is now focused on garnering two categories of insights from the DSII experience of student leadership in deploying data science, machine learning, and artificial intelligence into higher education operations: (a) specifying the ways and degrees to which data scientific innovations can improve alignment between university operations and university mission, and (b) identifying key components of best-in-class undergraduate data science'),\n",
              " Document(metadata={'source': 'https://www.brandeis.edu/computer-science/undergraduate/data-science-internship.html', 'loc': 'https://www.brandeis.edu/computer-science/undergraduate/data-science-internship.html', 'lastmod': '2025-01-30\\n', 'start_index': 789}, page_content='degrees to which data scientific innovations can improve alignment between university operations and university mission, and (b) identifying key components of best-in-class undergraduate data science curricula.Expand AllProject Partnerships Between DSII Interns and Administrative MentorsCampus Planning and OperationsImproving response to daily building alarms: DSII Intern built machine-readable dataset of alarms from all campus buildings, then created analytics to pinpoint faulty alarms, missing sensors, and disproportionately high percentages associated with specific buildings. These analytics help increase the capacity of administrators to rely on data-informed decision-making to allocate scarce staff resources to response and repair.Enabling geographic view of utilities infrastructure: DSII Intern designed the schema necessary to create a spatial data platform for viewing all buildings, infrastructure, and utilities components on a campus map. The prototype geographical information'),\n",
              " Document(metadata={'source': 'https://www.brandeis.edu/computer-science/undergraduate/data-science-internship.html', 'loc': 'https://www.brandeis.edu/computer-science/undergraduate/data-science-internship.html', 'lastmod': '2025-01-30\\n', 'start_index': 1589}, page_content='DSII Intern designed the schema necessary to create a spatial data platform for viewing all buildings, infrastructure, and utilities components on a campus map. The prototype geographical information system includes precise details of sewer pipes, manhole covers, and electric submeters, all aligned with location-specific measures of deferred maintenance, enabling administrators to more effectively evaluate potential investments (“does it make sense to install a bathroom on this spot in this field?”) and troubleshoot building failures (“which water pipe might be responsible for that manhole spewing so much steam?”)Measuring and predicting electricity use:\\xa0DSII Interns engineered the integration of data from multiple current and historical sources to create a machine-readable dataset of electricity usage by campus building. Interns designed and built a dashboard that allows administrators to analyze usage levels and patterns for each building across seasons (winter, spring, summer,'),\n",
              " Document(metadata={'source': 'https://www.brandeis.edu/computer-science/undergraduate/data-science-internship.html', 'loc': 'https://www.brandeis.edu/computer-science/undergraduate/data-science-internship.html', 'lastmod': '2025-01-30\\n', 'start_index': 2385}, page_content='electricity usage by campus building. Interns designed and built a dashboard that allows administrators to analyze usage levels and patterns for each building across seasons (winter, spring, summer, fall) and functions (residence hall, science building, gym, etc). Interns also began building predictive tools for better estimating energy usage by building as well as to highlight relevant anomalies deserving of strategic attention.Read a senior thesis in computer science based on this work.Transportation Logistics: DSII Intern created the data scientific platform, including regular feeds of machine-readable data, and user-friendly dashboards, to analyze and visualize ridership data of university campus shuttle service. This data visualization allows administration to identify what day and time vehicles are reaching maximum capacity, as well as identify underutilized stops and times.\\xa0 This work also generates general trends such as ridership by day, time, and stop as well as highlighting'),\n",
              " Document(metadata={'source': 'https://www.brandeis.edu/computer-science/undergraduate/data-science-internship.html', 'loc': 'https://www.brandeis.edu/computer-science/undergraduate/data-science-internship.html', 'lastmod': '2025-01-30\\n', 'start_index': 3188}, page_content='vehicles are reaching maximum capacity, as well as identify underutilized stops and times.\\xa0 This work also generates general trends such as ridership by day, time, and stop as well as highlighting vendor on-time/early/late arrival performance by stop. This is transforming the capacity of administrators to more effectively and efficiently align campus transportation resources to community needs.Career ServicesIntern is transforming into machine-readable format all data related to student participation in career services activities, which will enable interactive dashboards, data visualizations, and analyses of trends across student age groups and across career service office offerings. This will support the division as it aims to increase data-informed decision-making on design and delivery of program offerings that provide the most relevant career services resources, in a targeted way, to the student population.Dean of Arts & SciencesAnalyzing trends in course enrollments and'),\n",
              " Document(metadata={'source': 'https://www.brandeis.edu/computer-science/undergraduate/data-science-internship.html', 'loc': 'https://www.brandeis.edu/computer-science/undergraduate/data-science-internship.html', 'lastmod': '2025-01-30\\n', 'start_index': 3979}, page_content='delivery of program offerings that provide the most relevant career services resources, in a targeted way, to the student population.Dean of Arts & SciencesAnalyzing trends in course enrollments and instructor workloads: DSII Interns engineered and integrated datasets to make it possible to build dashboards of historical and current data on undergraduate course enrollments and instructor workloads. The dashboards now make it possible to disaggregate the data by academic department, instructor, undergraduate major, and individual course. Experimental analytics by Interns based on this new data platform demonstrate the possibility of predicting enrollments in required and high traffic courses, a functionality that, once formally implemented, enables administrators to more effectively plan and allocate academic resources.FinanceIntern is identifying multiple streams of data reconciliation that feed into the university’s budget-making, with the aim of streamlining and automating the'),\n",
              " Document(metadata={'source': 'https://www.brandeis.edu/computer-science/undergraduate/data-science-internship.html', 'loc': 'https://www.brandeis.edu/computer-science/undergraduate/data-science-internship.html', 'lastmod': '2025-01-30\\n', 'start_index': 4777}, page_content='and allocate academic resources.FinanceIntern is identifying multiple streams of data reconciliation that feed into the university’s budget-making, with the aim of streamlining and automating the university-wide process, and documenting the upgrades for all current and future users.Graduate School of Arts & SciencesAnalyzing trends in course enrollments for 100+ level courses across the university’s graduate programs:\\xa0DSII Intern will leverage the data engineering and dashboard design expertise of Interns working in the Dean of Arts & Sciences to build out a dashboard of course enrollment trends and analytics specific to graduate school courses. As with other DSII projects that introduce dashboard functionality to existing work-flows, this will require integration of multiple data sets from various sources. Accomplishment of the goals of this project will bring dramatically increased efficiencies to administrators responsible for assessing and allocating academic resources at the'),\n",
              " Document(metadata={'source': 'https://www.brandeis.edu/computer-science/undergraduate/data-science-internship.html', 'loc': 'https://www.brandeis.edu/computer-science/undergraduate/data-science-internship.html', 'lastmod': '2025-01-30\\n', 'start_index': 5574}, page_content='from various sources. Accomplishment of the goals of this project will bring dramatically increased efficiencies to administrators responsible for assessing and allocating academic resources at the graduate level.Human ResourcesLaunching a Human Capital Management dashboard of\\xa0 Organizational metrics: DSII Interns began by assembling a prototype HR dashboard, then integrating the data streams and analytics necessary to create metrics showing turnover rates, time-to-fill for open positions, degree of diversity in recruitment pools, and completion rates for performance reviews. Interns also helped collect feedback from a pilot group of users across the university to improve\\xa0the design and usability of the dashboard. Interns are now creating predictive analytic tools that, once formally implemented through the HR dashboard, will help senior leaders foresee and manage workforce related challenges and opportunities. In addition, current Intern developed a user-friendly encoder for HR'),\n",
              " Document(metadata={'source': 'https://www.brandeis.edu/computer-science/undergraduate/data-science-internship.html', 'loc': 'https://www.brandeis.edu/computer-science/undergraduate/data-science-internship.html', 'lastmod': '2025-01-30\\n', 'start_index': 6369}, page_content='implemented through the HR dashboard, will help senior leaders foresee and manage workforce related challenges and opportunities. In addition, current Intern developed a user-friendly encoder for HR admins to use when needing to anonymize sensitive HR data.Institutional AdvancementBuilding predictive models of charitable giving and of bequests that are customized to Brandeis alumni, donors, and friends:DSII Interns brought data scientific analyses to an entire corpus of Brandeis alumni and fundraising data, including current and historical data dating back to the founding of the university in 1948, enabling fundraising admins to identify key characteristics of those most likely to make major gifts or to leave bequests to the university. Interns are relying on these initial analyses to develop tools for data-informed guidance to administrators making resource allocation decisions regarding the cultivation of potential donors.Increasing efficiencies in information retrieval to')]"
            ]
          },
          "execution_count": 15,
          "metadata": {},
          "output_type": "execute_result"
        }
      ],
      "source": [
        "splits[0:10]"
      ]
    },
    {
      "cell_type": "markdown",
      "metadata": {
        "id": "SEasMTvay59p"
      },
      "source": [
        "Embedding"
      ]
    },
    {
      "cell_type": "code",
      "execution_count": 12,
      "metadata": {
        "id": "Pm6F6LU1wize"
      },
      "outputs": [],
      "source": [
        "from langchain_openai import OpenAIEmbeddings\n",
        "embeddings = OpenAIEmbeddings(model=\"text-embedding-3-small\", api_key=os.getenv(\"OPENAI_API_KEY\"))\n",
        "url = \"9cb98d40-7c3b-441b-9b6d-4f1ac13eb1fa.europe-west3-0.gcp.cloud.qdrant.io\""
      ]
    },
    {
      "cell_type": "code",
      "execution_count": 13,
      "metadata": {
        "id": "VnaQ_KKfzE2P"
      },
      "outputs": [],
      "source": [
        "from langchain_qdrant import QdrantVectorStore\n",
        "from qdrant_client import QdrantClient\n",
        "from qdrant_client.http.models import Distance, VectorParams"
      ]
    },
    {
      "cell_type": "code",
      "execution_count": 17,
      "metadata": {
        "id": "sFUQMVCz3KSy"
      },
      "outputs": [],
      "source": [
        "qdrant = QdrantVectorStore.from_documents(\n",
        "    splits,\n",
        "    embeddings,\n",
        "    url=url,\n",
        "    prefer_grpc=True,\n",
        "    api_key=os.getenv(\"QDRANT_CLUSTER_KEY\"),\n",
        "    collection_name=\"brandeis.edu\",\n",
        ")"
      ]
    },
    {
      "cell_type": "code",
      "execution_count": 15,
      "metadata": {
        "id": "0e2MVVoK3XDd"
      },
      "outputs": [],
      "source": [
        "results = qdrant.similarity_search(\n",
        "    \"What courses to I need to get the cosi major?\", k=5\n",
        ")"
      ]
    },
    {
      "cell_type": "code",
      "execution_count": 16,
      "metadata": {
        "colab": {
          "base_uri": "https://localhost:8080/"
        },
        "id": "qzFVgxwY2iTH",
        "outputId": "771571ac-c5d2-495d-afa5-200bf1b0b575"
      },
      "outputs": [
        {
          "name": "stdout",
          "output_type": "stream",
          "text": [
            "or BIOL 51a or PSYC 51aCOSI 131a: Operating SystemsCOSI 121b: Structure and Interpretation of Computer ProgramsCOSI 130a: Intro. to Theory of ComputationSix ElectivesFull details and recommendations are provided in theUniversity Bulletin.Additional RequirementsMath 8a: Introduction to Probability and Statistics or MATH 36a, ECON 83a, BIOL 51a, or PSYC 51aMATH 10a: Techniques of CalculusAdditional Requirements for Degree with Departmental HonorsGraduation with honors in computer science requires completion and defense of a senior honors thesis. Students interested in senior thesis should contact prospective mentors by the spring of their junior year and should take note of the prerequisites for enrollment in COSI 99d (Senior Research).MinorCore CoursesCOSI 12b: Advanced Programming Techniques in JavaCOSI 21a: Data Structures and the Fundamentals of ComputingFour ElectivesForBusiness Majors,we suggest the following electives:COSI 102a: Software EntrepreneurshipCOSI 125a: Human Computer\n",
            "or BIOL 51a or PSYC 51aCOSI 131a: Operating SystemsCOSI 121b: Structure and Interpretation of Computer ProgramsCOSI 130a: Intro. to Theory of ComputationSix ElectivesFull details and recommendations are provided in theUniversity Bulletin.Additional RequirementsMath 8a: Introduction to Probability and Statistics or MATH 36a, ECON 83a, BIOL 51a, or PSYC 51aMATH 10a: Techniques of CalculusAdditional Requirements for Degree with Departmental HonorsGraduation with honors in computer science requires completion and defense of a senior honors thesis. Students interested in senior thesis should contact prospective mentors by the spring of their junior year and should take note of the prerequisites for enrollment in COSI 99d (Senior Research).MinorCore CoursesCOSI 12b: Advanced Programming Techniques in JavaCOSI 21a: Data Structures and the Fundamentals of ComputingFour ElectivesForBusiness Majors,we suggest the following electives:COSI 102a: Software EntrepreneurshipCOSI 125a: Human Computer\n",
            "by following theseinstructions.How do I declare/change/drop a major or minor in Computer Science?Please send anemailto the UAH, Professor Antonella Di Lillo, and include:Workday ID numberMajor or minorType of major (BA vs. BS)I learned programming on my own, what is the first COSI course I should take?Placement in the introductory Computer Science courses is determined through theCOSI Placement Examand advising.I wish to take COSI 21a even though I haven't taken COSI 12b. Is this possible?No. COSI 12b is a strict prerequisite to COSI 21a.How do I get an exemption from required courses?Students who believe they have taken a course equivalent to one required for the Computer Science major or minor may apply for a substitution. We will verify that your proposed substitute is indeed equivalent to the Brandeis course propose. Please apply for the substitution by submitting asubstitution petition.How can I propose the substitution of a different course for a course required for the major or\n",
            "by following theseinstructions.How do I declare/change/drop a major or minor in Computer Science?Please send anemailto the UAH, Professor Antonella Di Lillo, and include:Workday ID numberMajor or minorType of major (BA vs. BS)I learned programming on my own, what is the first COSI course I should take?Placement in the introductory Computer Science courses is determined through theCOSI Placement Examand advising.I wish to take COSI 21a even though I haven't taken COSI 12b. Is this possible?No. COSI 12b is a strict prerequisite to COSI 21a.How do I get an exemption from required courses?Students who believe they have taken a course equivalent to one required for the Computer Science major or minor may apply for a substitution. We will verify that your proposed substitute is indeed equivalent to the Brandeis course propose. Please apply for the substitution by submitting asubstitution petition.How can I propose the substitution of a different course for a course required for the major or\n",
            "in JavaCOSI 21a: Data Structures and the Fundamentals of ComputingFour ElectivesForBusiness Majors,we suggest the following electives:COSI 102a: Software EntrepreneurshipCOSI 125a: Human Computer InteractionCOSI 127b: Database Management SystemsForBiology Majors,we suggest the following electives:COSI 101a: Artificial IntelligenceCOSI 113b: Artifical LifeCOSI 123a: Statistical Machine LearningCOSI 165a: 3D AnimationCOSI 178a: Computational Molecular BiologyForPsychology Majors,we suggest the following electives:COSI 101a: Artificial IntelligenceCOSI 111a: Topics in Computational Cognitive ScienceCOSI 114a: Topics in Computational LinguisticsCOSI 118a: Computer Supported CooperationCOSI 125a: Human-Computer InteractionFull details and other recommendations are provided in theUniversity Bulletin.\n"
          ]
        }
      ],
      "source": [
        "for r in results:\n",
        "  print(r.page_content)"
      ]
    },
    {
      "cell_type": "code",
      "execution_count": null,
      "metadata": {
        "id": "8d80OvKa5URz"
      },
      "outputs": [],
      "source": []
    },
    {
      "cell_type": "code",
      "execution_count": null,
      "metadata": {
        "id": "3Q0ZA8d2VL8K"
      },
      "outputs": [],
      "source": []
    }
  ],
  "metadata": {
    "colab": {
      "provenance": []
    },
    "kernelspec": {
      "display_name": "base",
      "language": "python",
      "name": "python3"
    },
    "language_info": {
      "codemirror_mode": {
        "name": "ipython",
        "version": 3
      },
      "file_extension": ".py",
      "mimetype": "text/x-python",
      "name": "python",
      "nbconvert_exporter": "python",
      "pygments_lexer": "ipython3",
      "version": "3.11.4"
    }
  },
  "nbformat": 4,
  "nbformat_minor": 0
}
